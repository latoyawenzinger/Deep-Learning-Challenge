{
  "cells": [
    {
      "cell_type": "markdown",
      "metadata": {
        "id": "DVhPm2jb0TRx"
      },
      "source": [
        "## Preprocessing"
      ]
    },
    {
      "cell_type": "code",
      "execution_count": 1,
      "metadata": {
        "colab": {
          "base_uri": "https://localhost:8080/",
          "height": 495
        },
        "id": "z5PGVtHA0TRz",
        "outputId": "076513da-7514-40b7-868e-b375e8093345"
      },
      "outputs": [
        {
          "output_type": "execute_result",
          "data": {
            "text/plain": [
              "        EIN                                      NAME APPLICATION_TYPE  \\\n",
              "0  10520599              BLUE KNIGHTS MOTORCYCLE CLUB              T10   \n",
              "1  10531628    AMERICAN CHESAPEAKE CLUB CHARITABLE TR               T3   \n",
              "2  10547893        ST CLOUD PROFESSIONAL FIREFIGHTERS               T5   \n",
              "3  10553066            SOUTHSIDE ATHLETIC ASSOCIATION               T3   \n",
              "4  10556103  GENETIC RESEARCH INSTITUTE OF THE DESERT               T3   \n",
              "\n",
              "        AFFILIATION CLASSIFICATION      USE_CASE  ORGANIZATION  STATUS  \\\n",
              "0       Independent          C1000    ProductDev   Association       1   \n",
              "1       Independent          C2000  Preservation  Co-operative       1   \n",
              "2  CompanySponsored          C3000    ProductDev   Association       1   \n",
              "3  CompanySponsored          C2000  Preservation         Trust       1   \n",
              "4       Independent          C1000     Heathcare         Trust       1   \n",
              "\n",
              "      INCOME_AMT SPECIAL_CONSIDERATIONS  ASK_AMT  IS_SUCCESSFUL  \n",
              "0              0                      N     5000              1  \n",
              "1         1-9999                      N   108590              1  \n",
              "2              0                      N     5000              0  \n",
              "3    10000-24999                      N     6692              1  \n",
              "4  100000-499999                      N   142590              1  "
            ],
            "text/html": [
              "\n",
              "  <div id=\"df-e0dcbdd1-8713-426c-90fc-bb15b9dc5f1a\">\n",
              "    <div class=\"colab-df-container\">\n",
              "      <div>\n",
              "<style scoped>\n",
              "    .dataframe tbody tr th:only-of-type {\n",
              "        vertical-align: middle;\n",
              "    }\n",
              "\n",
              "    .dataframe tbody tr th {\n",
              "        vertical-align: top;\n",
              "    }\n",
              "\n",
              "    .dataframe thead th {\n",
              "        text-align: right;\n",
              "    }\n",
              "</style>\n",
              "<table border=\"1\" class=\"dataframe\">\n",
              "  <thead>\n",
              "    <tr style=\"text-align: right;\">\n",
              "      <th></th>\n",
              "      <th>EIN</th>\n",
              "      <th>NAME</th>\n",
              "      <th>APPLICATION_TYPE</th>\n",
              "      <th>AFFILIATION</th>\n",
              "      <th>CLASSIFICATION</th>\n",
              "      <th>USE_CASE</th>\n",
              "      <th>ORGANIZATION</th>\n",
              "      <th>STATUS</th>\n",
              "      <th>INCOME_AMT</th>\n",
              "      <th>SPECIAL_CONSIDERATIONS</th>\n",
              "      <th>ASK_AMT</th>\n",
              "      <th>IS_SUCCESSFUL</th>\n",
              "    </tr>\n",
              "  </thead>\n",
              "  <tbody>\n",
              "    <tr>\n",
              "      <th>0</th>\n",
              "      <td>10520599</td>\n",
              "      <td>BLUE KNIGHTS MOTORCYCLE CLUB</td>\n",
              "      <td>T10</td>\n",
              "      <td>Independent</td>\n",
              "      <td>C1000</td>\n",
              "      <td>ProductDev</td>\n",
              "      <td>Association</td>\n",
              "      <td>1</td>\n",
              "      <td>0</td>\n",
              "      <td>N</td>\n",
              "      <td>5000</td>\n",
              "      <td>1</td>\n",
              "    </tr>\n",
              "    <tr>\n",
              "      <th>1</th>\n",
              "      <td>10531628</td>\n",
              "      <td>AMERICAN CHESAPEAKE CLUB CHARITABLE TR</td>\n",
              "      <td>T3</td>\n",
              "      <td>Independent</td>\n",
              "      <td>C2000</td>\n",
              "      <td>Preservation</td>\n",
              "      <td>Co-operative</td>\n",
              "      <td>1</td>\n",
              "      <td>1-9999</td>\n",
              "      <td>N</td>\n",
              "      <td>108590</td>\n",
              "      <td>1</td>\n",
              "    </tr>\n",
              "    <tr>\n",
              "      <th>2</th>\n",
              "      <td>10547893</td>\n",
              "      <td>ST CLOUD PROFESSIONAL FIREFIGHTERS</td>\n",
              "      <td>T5</td>\n",
              "      <td>CompanySponsored</td>\n",
              "      <td>C3000</td>\n",
              "      <td>ProductDev</td>\n",
              "      <td>Association</td>\n",
              "      <td>1</td>\n",
              "      <td>0</td>\n",
              "      <td>N</td>\n",
              "      <td>5000</td>\n",
              "      <td>0</td>\n",
              "    </tr>\n",
              "    <tr>\n",
              "      <th>3</th>\n",
              "      <td>10553066</td>\n",
              "      <td>SOUTHSIDE ATHLETIC ASSOCIATION</td>\n",
              "      <td>T3</td>\n",
              "      <td>CompanySponsored</td>\n",
              "      <td>C2000</td>\n",
              "      <td>Preservation</td>\n",
              "      <td>Trust</td>\n",
              "      <td>1</td>\n",
              "      <td>10000-24999</td>\n",
              "      <td>N</td>\n",
              "      <td>6692</td>\n",
              "      <td>1</td>\n",
              "    </tr>\n",
              "    <tr>\n",
              "      <th>4</th>\n",
              "      <td>10556103</td>\n",
              "      <td>GENETIC RESEARCH INSTITUTE OF THE DESERT</td>\n",
              "      <td>T3</td>\n",
              "      <td>Independent</td>\n",
              "      <td>C1000</td>\n",
              "      <td>Heathcare</td>\n",
              "      <td>Trust</td>\n",
              "      <td>1</td>\n",
              "      <td>100000-499999</td>\n",
              "      <td>N</td>\n",
              "      <td>142590</td>\n",
              "      <td>1</td>\n",
              "    </tr>\n",
              "  </tbody>\n",
              "</table>\n",
              "</div>\n",
              "      <button class=\"colab-df-convert\" onclick=\"convertToInteractive('df-e0dcbdd1-8713-426c-90fc-bb15b9dc5f1a')\"\n",
              "              title=\"Convert this dataframe to an interactive table.\"\n",
              "              style=\"display:none;\">\n",
              "        \n",
              "  <svg xmlns=\"http://www.w3.org/2000/svg\" height=\"24px\"viewBox=\"0 0 24 24\"\n",
              "       width=\"24px\">\n",
              "    <path d=\"M0 0h24v24H0V0z\" fill=\"none\"/>\n",
              "    <path d=\"M18.56 5.44l.94 2.06.94-2.06 2.06-.94-2.06-.94-.94-2.06-.94 2.06-2.06.94zm-11 1L8.5 8.5l.94-2.06 2.06-.94-2.06-.94L8.5 2.5l-.94 2.06-2.06.94zm10 10l.94 2.06.94-2.06 2.06-.94-2.06-.94-.94-2.06-.94 2.06-2.06.94z\"/><path d=\"M17.41 7.96l-1.37-1.37c-.4-.4-.92-.59-1.43-.59-.52 0-1.04.2-1.43.59L10.3 9.45l-7.72 7.72c-.78.78-.78 2.05 0 2.83L4 21.41c.39.39.9.59 1.41.59.51 0 1.02-.2 1.41-.59l7.78-7.78 2.81-2.81c.8-.78.8-2.07 0-2.86zM5.41 20L4 18.59l7.72-7.72 1.47 1.35L5.41 20z\"/>\n",
              "  </svg>\n",
              "      </button>\n",
              "      \n",
              "  <style>\n",
              "    .colab-df-container {\n",
              "      display:flex;\n",
              "      flex-wrap:wrap;\n",
              "      gap: 12px;\n",
              "    }\n",
              "\n",
              "    .colab-df-convert {\n",
              "      background-color: #E8F0FE;\n",
              "      border: none;\n",
              "      border-radius: 50%;\n",
              "      cursor: pointer;\n",
              "      display: none;\n",
              "      fill: #1967D2;\n",
              "      height: 32px;\n",
              "      padding: 0 0 0 0;\n",
              "      width: 32px;\n",
              "    }\n",
              "\n",
              "    .colab-df-convert:hover {\n",
              "      background-color: #E2EBFA;\n",
              "      box-shadow: 0px 1px 2px rgba(60, 64, 67, 0.3), 0px 1px 3px 1px rgba(60, 64, 67, 0.15);\n",
              "      fill: #174EA6;\n",
              "    }\n",
              "\n",
              "    [theme=dark] .colab-df-convert {\n",
              "      background-color: #3B4455;\n",
              "      fill: #D2E3FC;\n",
              "    }\n",
              "\n",
              "    [theme=dark] .colab-df-convert:hover {\n",
              "      background-color: #434B5C;\n",
              "      box-shadow: 0px 1px 3px 1px rgba(0, 0, 0, 0.15);\n",
              "      filter: drop-shadow(0px 1px 2px rgba(0, 0, 0, 0.3));\n",
              "      fill: #FFFFFF;\n",
              "    }\n",
              "  </style>\n",
              "\n",
              "      <script>\n",
              "        const buttonEl =\n",
              "          document.querySelector('#df-e0dcbdd1-8713-426c-90fc-bb15b9dc5f1a button.colab-df-convert');\n",
              "        buttonEl.style.display =\n",
              "          google.colab.kernel.accessAllowed ? 'block' : 'none';\n",
              "\n",
              "        async function convertToInteractive(key) {\n",
              "          const element = document.querySelector('#df-e0dcbdd1-8713-426c-90fc-bb15b9dc5f1a');\n",
              "          const dataTable =\n",
              "            await google.colab.kernel.invokeFunction('convertToInteractive',\n",
              "                                                     [key], {});\n",
              "          if (!dataTable) return;\n",
              "\n",
              "          const docLinkHtml = 'Like what you see? Visit the ' +\n",
              "            '<a target=\"_blank\" href=https://colab.research.google.com/notebooks/data_table.ipynb>data table notebook</a>'\n",
              "            + ' to learn more about interactive tables.';\n",
              "          element.innerHTML = '';\n",
              "          dataTable['output_type'] = 'display_data';\n",
              "          await google.colab.output.renderOutput(dataTable, element);\n",
              "          const docLink = document.createElement('div');\n",
              "          docLink.innerHTML = docLinkHtml;\n",
              "          element.appendChild(docLink);\n",
              "        }\n",
              "      </script>\n",
              "    </div>\n",
              "  </div>\n",
              "  "
            ]
          },
          "metadata": {},
          "execution_count": 1
        }
      ],
      "source": [
        "# Import our dependencies\n",
        "from sklearn.model_selection import train_test_split\n",
        "from sklearn.preprocessing import StandardScaler\n",
        "import pandas as pd\n",
        "import tensorflow as tf\n",
        "from keras.callbacks import ModelCheckpoint\n",
        "\n",
        "\n",
        "#  Import and read the charity_data.csv.\n",
        "import pandas as pd \n",
        "application_df = pd.read_csv(\"https://static.bc-edx.com/data/dl-1-2/m21/lms/starter/charity_data.csv\")\n",
        "application_df.head()"
      ]
    },
    {
      "cell_type": "code",
      "execution_count": 2,
      "metadata": {
        "id": "rNLRuFep0TR0"
      },
      "outputs": [],
      "source": [
        "# Drop the non-beneficial ID columns, 'EIN' and 'NAME'.\n",
        "application_df_new = application_df.drop(columns=['EIN', 'NAME'])"
      ]
    },
    {
      "cell_type": "code",
      "execution_count": 3,
      "metadata": {
        "colab": {
          "base_uri": "https://localhost:8080/"
        },
        "id": "QH4AR0_V0TR0",
        "outputId": "3dcc922a-0660-4b53-a61a-e576379223ca"
      },
      "outputs": [
        {
          "output_type": "execute_result",
          "data": {
            "text/plain": [
              "APPLICATION_TYPE            17\n",
              "AFFILIATION                  6\n",
              "CLASSIFICATION              71\n",
              "USE_CASE                     5\n",
              "ORGANIZATION                 4\n",
              "STATUS                       2\n",
              "INCOME_AMT                   9\n",
              "SPECIAL_CONSIDERATIONS       2\n",
              "ASK_AMT                   8747\n",
              "IS_SUCCESSFUL                2\n",
              "dtype: int64"
            ]
          },
          "metadata": {},
          "execution_count": 3
        }
      ],
      "source": [
        "# Determine the number of unique values in each column.\n",
        "application_df_new.nunique()"
      ]
    },
    {
      "cell_type": "code",
      "execution_count": 4,
      "metadata": {
        "colab": {
          "base_uri": "https://localhost:8080/"
        },
        "id": "J6GuyQJl0TR0",
        "outputId": "992612ee-c82f-446e-a4e7-d64cc515cac8"
      },
      "outputs": [
        {
          "output_type": "execute_result",
          "data": {
            "text/plain": [
              "T3     27037\n",
              "T4      1542\n",
              "T6      1216\n",
              "T5      1173\n",
              "T19     1065\n",
              "T8       737\n",
              "T7       725\n",
              "T10      528\n",
              "T9       156\n",
              "T13       66\n",
              "T12       27\n",
              "T2        16\n",
              "T25        3\n",
              "T14        3\n",
              "T29        2\n",
              "T15        2\n",
              "T17        1\n",
              "Name: APPLICATION_TYPE, dtype: int64"
            ]
          },
          "metadata": {},
          "execution_count": 4
        }
      ],
      "source": [
        "# Look at APPLICATION_TYPE value counts for binning\n",
        "application_df_new['APPLICATION_TYPE'].value_counts()"
      ]
    },
    {
      "cell_type": "code",
      "execution_count": 5,
      "metadata": {
        "colab": {
          "base_uri": "https://localhost:8080/"
        },
        "id": "5ajrGMdw0TR0",
        "outputId": "2f5b7c88-d45e-45ca-9bf6-6c68666bf7b3"
      },
      "outputs": [
        {
          "output_type": "execute_result",
          "data": {
            "text/plain": [
              "T3     27037\n",
              "T4      1542\n",
              "T6      1216\n",
              "T5      1173\n",
              "T19     1065\n",
              "T8       737\n",
              "T7       725\n",
              "T10      528\n",
              "T9       156\n",
              "T13       66\n",
              "T12       27\n",
              "T2        16\n",
              "T25        3\n",
              "T14        3\n",
              "T29        2\n",
              "T15        2\n",
              "T17        1\n",
              "Name: APPLICATION_TYPE, dtype: int64"
            ]
          },
          "metadata": {},
          "execution_count": 5
        }
      ],
      "source": [
        "# Choose a cutoff value and create a list of application types to be replaced\n",
        "# use the variable name `application_types_to_replace`\n",
        "\n",
        "application_types_to_replace = []\n",
        "app_filter = application_df_new['CLASSIFICATION'].value_counts()[application_df_new['CLASSIFICATION'].value_counts() < 528]\n",
        "application_types_to_replace.append(app_filter.index)  \n",
        "\n",
        "# Replace in dataframe\n",
        "for app in application_types_to_replace:\n",
        "    application_df_new['APPLICATION_TYPE'] = application_df_new['APPLICATION_TYPE'].replace(app,\"Other\")\n",
        "\n",
        "# Check to make sure binning was successful\n",
        "application_df_new['APPLICATION_TYPE'].value_counts()"
      ]
    },
    {
      "cell_type": "code",
      "execution_count": 6,
      "metadata": {
        "colab": {
          "base_uri": "https://localhost:8080/"
        },
        "id": "5RDg8WkZ0TR1",
        "outputId": "ba296d72-3287-421b-9a49-ee6f19ec91b7"
      },
      "outputs": [
        {
          "output_type": "execute_result",
          "data": {
            "text/plain": [
              "C1000    17326\n",
              "C2000     6074\n",
              "C1200     4837\n",
              "C3000     1918\n",
              "C2100     1883\n",
              "         ...  \n",
              "C4120        1\n",
              "C8210        1\n",
              "C2561        1\n",
              "C4500        1\n",
              "C2150        1\n",
              "Name: CLASSIFICATION, Length: 71, dtype: int64"
            ]
          },
          "metadata": {},
          "execution_count": 6
        }
      ],
      "source": [
        "# Look at CLASSIFICATION value counts for binning\n",
        "counts = application_df_new['CLASSIFICATION'].value_counts()\n",
        "counts "
      ]
    },
    {
      "cell_type": "code",
      "execution_count": 7,
      "metadata": {
        "colab": {
          "base_uri": "https://localhost:8080/"
        },
        "id": "jPyHX7l80TR1",
        "outputId": "3d59467d-dff9-4153-b9fb-9b67d00c594b"
      },
      "outputs": [
        {
          "output_type": "execute_result",
          "data": {
            "text/plain": [
              "C1000    17326\n",
              "C2000     6074\n",
              "C1200     4837\n",
              "C3000     1918\n",
              "C2100     1883\n",
              "C7000      777\n",
              "C1700      287\n",
              "C4000      194\n",
              "C5000      116\n",
              "C1270      114\n",
              "C2700      104\n",
              "C2800       95\n",
              "C7100       75\n",
              "C1300       58\n",
              "C1280       50\n",
              "C1230       36\n",
              "C1400       34\n",
              "C7200       32\n",
              "C2300       32\n",
              "C1240       30\n",
              "C8000       20\n",
              "C7120       18\n",
              "C1500       16\n",
              "C1800       15\n",
              "C6000       15\n",
              "C1250       14\n",
              "C8200       11\n",
              "C1238       10\n",
              "C1278       10\n",
              "C1235        9\n",
              "C1237        9\n",
              "C7210        7\n",
              "C2400        6\n",
              "C1720        6\n",
              "C4100        6\n",
              "C1257        5\n",
              "C1600        5\n",
              "C1260        3\n",
              "C2710        3\n",
              "C0           3\n",
              "C3200        2\n",
              "C1234        2\n",
              "C1246        2\n",
              "C1267        2\n",
              "C1256        2\n",
              "Name: CLASSIFICATION, dtype: int64"
            ]
          },
          "metadata": {},
          "execution_count": 7
        }
      ],
      "source": [
        "# You may find it helpful to look at CLASSIFICATION value counts >1\n",
        "application_df_new['CLASSIFICATION'].value_counts()[application_df_new['CLASSIFICATION'].value_counts() > 1]"
      ]
    },
    {
      "cell_type": "code",
      "execution_count": 8,
      "metadata": {
        "colab": {
          "base_uri": "https://localhost:8080/"
        },
        "id": "LXoL2I6u0TR1",
        "outputId": "c0e83f4c-7bfb-48f0-bb8b-54eeacaf52a1"
      },
      "outputs": [
        {
          "output_type": "execute_result",
          "data": {
            "text/plain": [
              "C1000    17326\n",
              "C2000     6074\n",
              "C1200     4837\n",
              "Other     2261\n",
              "C3000     1918\n",
              "C2100     1883\n",
              "Name: CLASSIFICATION, dtype: int64"
            ]
          },
          "metadata": {},
          "execution_count": 8
        }
      ],
      "source": [
        "# Choose a cutoff value and create a list of classifications to be replaced\n",
        "# use the variable name `classifications_to_replace`\n",
        "classifications_to_replace = []\n",
        "cls_filter = application_df_new['CLASSIFICATION'].value_counts()[application_df_new['CLASSIFICATION'].value_counts() < 1883]\n",
        "classifications_to_replace.append(cls_filter.index.tolist())  \n",
        "\n",
        "# Replace in dataframe\n",
        "for cls in classifications_to_replace:\n",
        "    application_df_new['CLASSIFICATION'] = application_df_new['CLASSIFICATION'].replace(cls,\"Other\")\n",
        "    \n",
        "# Check to make sure binning was successful\n",
        "application_df_new['CLASSIFICATION'].value_counts()"
      ]
    },
    {
      "cell_type": "code",
      "execution_count": 9,
      "metadata": {
        "id": "hHpHZmG70TR1"
      },
      "outputs": [],
      "source": [
        "# Convert categorical data to numeric with `pd.get_dummies`\n",
        "X = application_df_new.drop(columns='IS_SUCCESSFUL')\n",
        "X = pd.get_dummies(X)"
      ]
    },
    {
      "cell_type": "code",
      "execution_count": 10,
      "metadata": {
        "id": "Z-7g4asN0TR1"
      },
      "outputs": [],
      "source": [
        "# Split our preprocessed data into our features and target arrays\n",
        "y = application_df_new['IS_SUCCESSFUL']\n",
        "\n",
        "# Split the preprocessed data into a training and testing dataset\n",
        "X_train, X_test, y_train, y_test = train_test_split(X, y, random_state=1, train_size=0.20 )"
      ]
    },
    {
      "cell_type": "code",
      "execution_count": 11,
      "metadata": {
        "id": "ii3SnWfn0TR2"
      },
      "outputs": [],
      "source": [
        "# Create a StandardScaler instances\n",
        "scaler = StandardScaler()\n",
        "\n",
        "# Fit the StandardScaler\n",
        "X_scaler = scaler.fit(X_train)\n",
        "\n",
        "# Scale the data\n",
        "X_train_scaled = X_scaler.transform(X_train)\n",
        "X_test_scaled = X_scaler.transform(X_test)"
      ]
    },
    {
      "cell_type": "markdown",
      "metadata": {
        "id": "rCGAQgZI0TR2"
      },
      "source": [
        "## Compile, Train and Evaluate the Model"
      ]
    },
    {
      "cell_type": "code",
      "execution_count": 12,
      "metadata": {
        "id": "KtM1UjdT0TR2",
        "outputId": "51f50708-e582-4fff-fc64-6790ffa7d7d1",
        "colab": {
          "base_uri": "https://localhost:8080/"
        }
      },
      "outputs": [
        {
          "output_type": "stream",
          "name": "stdout",
          "text": [
            "Model: \"sequential\"\n",
            "_________________________________________________________________\n",
            " Layer (type)                Output Shape              Param #   \n",
            "=================================================================\n",
            " dense (Dense)               (None, 6)                 312       \n",
            "                                                                 \n",
            " dense_1 (Dense)             (None, 6)                 42        \n",
            "                                                                 \n",
            " dense_2 (Dense)             (None, 1)                 7         \n",
            "                                                                 \n",
            "=================================================================\n",
            "Total params: 361\n",
            "Trainable params: 361\n",
            "Non-trainable params: 0\n",
            "_________________________________________________________________\n"
          ]
        }
      ],
      "source": [
        "# Define the model - deep neural net, i.e., the number of input features and hidden nodes for each layer.\n",
        "nn = tf.keras.models.Sequential()\n",
        "\n",
        "# First hidden layer\n",
        "nn.add(tf.keras.layers.Dense(units=6, activation='sigmoid', input_dim=51))\n",
        "\n",
        "# Second hidden layer\n",
        "nn.add(tf.keras.layers.Dense(units=6, activation='sigmoid'))\n",
        "\n",
        "# Output layer\n",
        "nn.add(tf.keras.layers.Dense(units=1, activation='sigmoid'))\n",
        "\n",
        "# Check the structure of the model\n",
        "nn.summary()"
      ]
    },
    {
      "cell_type": "code",
      "execution_count": 13,
      "metadata": {
        "id": "BzyM5jIP0TR2"
      },
      "outputs": [],
      "source": [
        "# Compile the model\n",
        "nn.compile(loss=\"binary_crossentropy\", optimizer=\"adam\", metrics=[\"accuracy\"])"
      ]
    },
    {
      "cell_type": "code",
      "execution_count": 14,
      "metadata": {
        "id": "KCVYz5gj0TR3",
        "outputId": "6503fc10-d707-4c8d-aa32-71ea11222ca1",
        "colab": {
          "base_uri": "https://localhost:8080/"
        }
      },
      "outputs": [
        {
          "output_type": "stream",
          "name": "stderr",
          "text": [
            "WARNING:tensorflow:`period` argument is deprecated. Please use `save_freq` to specify the frequency in number of batches seen.\n"
          ]
        },
        {
          "output_type": "stream",
          "name": "stdout",
          "text": [
            "Epoch 1/100\n",
            "215/215 [==============================] - 3s 4ms/step - loss: 0.7350 - accuracy: 0.5479\n",
            "Epoch 2/100\n",
            "215/215 [==============================] - 1s 3ms/step - loss: 0.6697 - accuracy: 0.5517\n",
            "Epoch 3/100\n",
            "215/215 [==============================] - 1s 4ms/step - loss: 0.6440 - accuracy: 0.6489\n",
            "Epoch 4/100\n",
            "215/215 [==============================] - 1s 5ms/step - loss: 0.6158 - accuracy: 0.7294\n",
            "Epoch 5/100\n",
            "207/215 [===========================>..] - ETA: 0s - loss: 0.5931 - accuracy: 0.7345\n",
            "Epoch 5: saving model to checkpoints/weights.05.hdf5\n",
            "215/215 [==============================] - 1s 3ms/step - loss: 0.5930 - accuracy: 0.7342\n",
            "Epoch 6/100\n",
            "215/215 [==============================] - 1s 6ms/step - loss: 0.5793 - accuracy: 0.7368\n",
            "Epoch 7/100\n",
            "215/215 [==============================] - 1s 4ms/step - loss: 0.5717 - accuracy: 0.7336\n",
            "Epoch 8/100\n",
            "215/215 [==============================] - 1s 5ms/step - loss: 0.5677 - accuracy: 0.7357\n",
            "Epoch 9/100\n",
            "215/215 [==============================] - 1s 5ms/step - loss: 0.5654 - accuracy: 0.7368\n",
            "Epoch 10/100\n",
            "208/215 [============================>.] - ETA: 0s - loss: 0.5638 - accuracy: 0.7366\n",
            "Epoch 10: saving model to checkpoints/weights.10.hdf5\n",
            "215/215 [==============================] - 1s 4ms/step - loss: 0.5641 - accuracy: 0.7360\n",
            "Epoch 11/100\n",
            "215/215 [==============================] - 1s 4ms/step - loss: 0.5630 - accuracy: 0.7360\n",
            "Epoch 12/100\n",
            "215/215 [==============================] - 1s 3ms/step - loss: 0.5625 - accuracy: 0.7348\n",
            "Epoch 13/100\n",
            "215/215 [==============================] - 1s 3ms/step - loss: 0.5619 - accuracy: 0.7373\n",
            "Epoch 14/100\n",
            "215/215 [==============================] - 1s 3ms/step - loss: 0.5616 - accuracy: 0.7373\n",
            "Epoch 15/100\n",
            "195/215 [==========================>...] - ETA: 0s - loss: 0.5632 - accuracy: 0.7359\n",
            "Epoch 15: saving model to checkpoints/weights.15.hdf5\n",
            "215/215 [==============================] - 1s 4ms/step - loss: 0.5614 - accuracy: 0.7380\n",
            "Epoch 16/100\n",
            "215/215 [==============================] - 0s 2ms/step - loss: 0.5611 - accuracy: 0.7367\n",
            "Epoch 17/100\n",
            "215/215 [==============================] - 0s 2ms/step - loss: 0.5608 - accuracy: 0.7371\n",
            "Epoch 18/100\n",
            "215/215 [==============================] - 0s 2ms/step - loss: 0.5607 - accuracy: 0.7382\n",
            "Epoch 19/100\n",
            "215/215 [==============================] - 0s 2ms/step - loss: 0.5605 - accuracy: 0.7387\n",
            "Epoch 20/100\n",
            "195/215 [==========================>...] - ETA: 0s - loss: 0.5609 - accuracy: 0.7385\n",
            "Epoch 20: saving model to checkpoints/weights.20.hdf5\n",
            "215/215 [==============================] - 0s 2ms/step - loss: 0.5603 - accuracy: 0.7392\n",
            "Epoch 21/100\n",
            "215/215 [==============================] - 0s 2ms/step - loss: 0.5601 - accuracy: 0.7387\n",
            "Epoch 22/100\n",
            "215/215 [==============================] - 0s 2ms/step - loss: 0.5598 - accuracy: 0.7374\n",
            "Epoch 23/100\n",
            "215/215 [==============================] - 0s 2ms/step - loss: 0.5597 - accuracy: 0.7383\n",
            "Epoch 24/100\n",
            "215/215 [==============================] - 0s 2ms/step - loss: 0.5595 - accuracy: 0.7390\n",
            "Epoch 25/100\n",
            "200/215 [==========================>...] - ETA: 0s - loss: 0.5585 - accuracy: 0.7391\n",
            "Epoch 25: saving model to checkpoints/weights.25.hdf5\n",
            "215/215 [==============================] - 0s 2ms/step - loss: 0.5593 - accuracy: 0.7389\n",
            "Epoch 26/100\n",
            "215/215 [==============================] - 0s 2ms/step - loss: 0.5592 - accuracy: 0.7390\n",
            "Epoch 27/100\n",
            "215/215 [==============================] - 0s 2ms/step - loss: 0.5591 - accuracy: 0.7398\n",
            "Epoch 28/100\n",
            "215/215 [==============================] - 0s 2ms/step - loss: 0.5590 - accuracy: 0.7395\n",
            "Epoch 29/100\n",
            "215/215 [==============================] - 0s 2ms/step - loss: 0.5586 - accuracy: 0.7396\n",
            "Epoch 30/100\n",
            "199/215 [==========================>...] - ETA: 0s - loss: 0.5600 - accuracy: 0.7378\n",
            "Epoch 30: saving model to checkpoints/weights.30.hdf5\n",
            "215/215 [==============================] - 0s 2ms/step - loss: 0.5585 - accuracy: 0.7405\n",
            "Epoch 31/100\n",
            "215/215 [==============================] - 0s 2ms/step - loss: 0.5583 - accuracy: 0.7411\n",
            "Epoch 32/100\n",
            "215/215 [==============================] - 1s 3ms/step - loss: 0.5580 - accuracy: 0.7398\n",
            "Epoch 33/100\n",
            "215/215 [==============================] - 1s 3ms/step - loss: 0.5581 - accuracy: 0.7390\n",
            "Epoch 34/100\n",
            "215/215 [==============================] - 1s 2ms/step - loss: 0.5578 - accuracy: 0.7400\n",
            "Epoch 35/100\n",
            "211/215 [============================>.] - ETA: 0s - loss: 0.5575 - accuracy: 0.7405\n",
            "Epoch 35: saving model to checkpoints/weights.35.hdf5\n",
            "215/215 [==============================] - 1s 3ms/step - loss: 0.5576 - accuracy: 0.7403\n",
            "Epoch 36/100\n",
            "215/215 [==============================] - 1s 2ms/step - loss: 0.5574 - accuracy: 0.7399\n",
            "Epoch 37/100\n",
            "215/215 [==============================] - 1s 2ms/step - loss: 0.5573 - accuracy: 0.7399\n",
            "Epoch 38/100\n",
            "215/215 [==============================] - 0s 2ms/step - loss: 0.5570 - accuracy: 0.7399\n",
            "Epoch 39/100\n",
            "215/215 [==============================] - 0s 2ms/step - loss: 0.5567 - accuracy: 0.7393\n",
            "Epoch 40/100\n",
            "200/215 [==========================>...] - ETA: 0s - loss: 0.5566 - accuracy: 0.7400\n",
            "Epoch 40: saving model to checkpoints/weights.40.hdf5\n",
            "215/215 [==============================] - 0s 2ms/step - loss: 0.5566 - accuracy: 0.7405\n",
            "Epoch 41/100\n",
            "215/215 [==============================] - 0s 2ms/step - loss: 0.5564 - accuracy: 0.7395\n",
            "Epoch 42/100\n",
            "215/215 [==============================] - 0s 2ms/step - loss: 0.5564 - accuracy: 0.7393\n",
            "Epoch 43/100\n",
            "215/215 [==============================] - 0s 2ms/step - loss: 0.5562 - accuracy: 0.7399\n",
            "Epoch 44/100\n",
            "215/215 [==============================] - 0s 2ms/step - loss: 0.5560 - accuracy: 0.7398\n",
            "Epoch 45/100\n",
            "196/215 [==========================>...] - ETA: 0s - loss: 0.5552 - accuracy: 0.7403\n",
            "Epoch 45: saving model to checkpoints/weights.45.hdf5\n",
            "215/215 [==============================] - 0s 2ms/step - loss: 0.5560 - accuracy: 0.7396\n",
            "Epoch 46/100\n",
            "215/215 [==============================] - 0s 2ms/step - loss: 0.5556 - accuracy: 0.7403\n",
            "Epoch 47/100\n",
            "215/215 [==============================] - 0s 2ms/step - loss: 0.5555 - accuracy: 0.7400\n",
            "Epoch 48/100\n",
            "215/215 [==============================] - 0s 2ms/step - loss: 0.5553 - accuracy: 0.7386\n",
            "Epoch 49/100\n",
            "215/215 [==============================] - 0s 2ms/step - loss: 0.5551 - accuracy: 0.7406\n",
            "Epoch 50/100\n",
            "197/215 [==========================>...] - ETA: 0s - loss: 0.5569 - accuracy: 0.7397\n",
            "Epoch 50: saving model to checkpoints/weights.50.hdf5\n",
            "215/215 [==============================] - 0s 2ms/step - loss: 0.5548 - accuracy: 0.7409\n",
            "Epoch 51/100\n",
            "215/215 [==============================] - 0s 2ms/step - loss: 0.5544 - accuracy: 0.7408\n",
            "Epoch 52/100\n",
            "215/215 [==============================] - 0s 2ms/step - loss: 0.5544 - accuracy: 0.7403\n",
            "Epoch 53/100\n",
            "215/215 [==============================] - 0s 2ms/step - loss: 0.5542 - accuracy: 0.7393\n",
            "Epoch 54/100\n",
            "215/215 [==============================] - 0s 2ms/step - loss: 0.5539 - accuracy: 0.7403\n",
            "Epoch 55/100\n",
            "204/215 [===========================>..] - ETA: 0s - loss: 0.5521 - accuracy: 0.7410\n",
            "Epoch 55: saving model to checkpoints/weights.55.hdf5\n",
            "215/215 [==============================] - 0s 2ms/step - loss: 0.5533 - accuracy: 0.7395\n",
            "Epoch 56/100\n",
            "215/215 [==============================] - 0s 2ms/step - loss: 0.5531 - accuracy: 0.7406\n",
            "Epoch 57/100\n",
            "215/215 [==============================] - 0s 2ms/step - loss: 0.5528 - accuracy: 0.7405\n",
            "Epoch 58/100\n",
            "215/215 [==============================] - 0s 2ms/step - loss: 0.5524 - accuracy: 0.7403\n",
            "Epoch 59/100\n",
            "215/215 [==============================] - 0s 2ms/step - loss: 0.5521 - accuracy: 0.7400\n",
            "Epoch 60/100\n",
            "202/215 [===========================>..] - ETA: 0s - loss: 0.5499 - accuracy: 0.7421\n",
            "Epoch 60: saving model to checkpoints/weights.60.hdf5\n",
            "215/215 [==============================] - 0s 2ms/step - loss: 0.5519 - accuracy: 0.7405\n",
            "Epoch 61/100\n",
            "215/215 [==============================] - 0s 2ms/step - loss: 0.5516 - accuracy: 0.7403\n",
            "Epoch 62/100\n",
            "215/215 [==============================] - 0s 2ms/step - loss: 0.5512 - accuracy: 0.7403\n",
            "Epoch 63/100\n",
            "215/215 [==============================] - 1s 3ms/step - loss: 0.5511 - accuracy: 0.7400\n",
            "Epoch 64/100\n",
            "215/215 [==============================] - 1s 3ms/step - loss: 0.5507 - accuracy: 0.7403\n",
            "Epoch 65/100\n",
            "202/215 [===========================>..] - ETA: 0s - loss: 0.5518 - accuracy: 0.7398\n",
            "Epoch 65: saving model to checkpoints/weights.65.hdf5\n",
            "215/215 [==============================] - 1s 3ms/step - loss: 0.5504 - accuracy: 0.7402\n",
            "Epoch 66/100\n",
            "215/215 [==============================] - 1s 3ms/step - loss: 0.5502 - accuracy: 0.7408\n",
            "Epoch 67/100\n",
            "215/215 [==============================] - 1s 3ms/step - loss: 0.5498 - accuracy: 0.7399\n",
            "Epoch 68/100\n",
            "215/215 [==============================] - 0s 2ms/step - loss: 0.5497 - accuracy: 0.7396\n",
            "Epoch 69/100\n",
            "215/215 [==============================] - 0s 2ms/step - loss: 0.5493 - accuracy: 0.7415\n",
            "Epoch 70/100\n",
            "190/215 [=========================>....] - ETA: 0s - loss: 0.5506 - accuracy: 0.7390\n",
            "Epoch 70: saving model to checkpoints/weights.70.hdf5\n",
            "215/215 [==============================] - 0s 2ms/step - loss: 0.5492 - accuracy: 0.7399\n",
            "Epoch 71/100\n",
            "215/215 [==============================] - 0s 2ms/step - loss: 0.5490 - accuracy: 0.7405\n",
            "Epoch 72/100\n",
            "215/215 [==============================] - 0s 2ms/step - loss: 0.5485 - accuracy: 0.7400\n",
            "Epoch 73/100\n",
            "215/215 [==============================] - 0s 2ms/step - loss: 0.5483 - accuracy: 0.7402\n",
            "Epoch 74/100\n",
            "215/215 [==============================] - 0s 2ms/step - loss: 0.5480 - accuracy: 0.7418\n",
            "Epoch 75/100\n",
            "187/215 [=========================>....] - ETA: 0s - loss: 0.5502 - accuracy: 0.7381\n",
            "Epoch 75: saving model to checkpoints/weights.75.hdf5\n",
            "215/215 [==============================] - 0s 2ms/step - loss: 0.5478 - accuracy: 0.7396\n",
            "Epoch 76/100\n",
            "215/215 [==============================] - 0s 2ms/step - loss: 0.5474 - accuracy: 0.7417\n",
            "Epoch 77/100\n",
            "215/215 [==============================] - 0s 2ms/step - loss: 0.5470 - accuracy: 0.7402\n",
            "Epoch 78/100\n",
            "215/215 [==============================] - 0s 2ms/step - loss: 0.5467 - accuracy: 0.7403\n",
            "Epoch 79/100\n",
            "215/215 [==============================] - 0s 2ms/step - loss: 0.5465 - accuracy: 0.7405\n",
            "Epoch 80/100\n",
            "200/215 [==========================>...] - ETA: 0s - loss: 0.5464 - accuracy: 0.7392\n",
            "Epoch 80: saving model to checkpoints/weights.80.hdf5\n",
            "215/215 [==============================] - 0s 2ms/step - loss: 0.5461 - accuracy: 0.7405\n",
            "Epoch 81/100\n",
            "215/215 [==============================] - 0s 2ms/step - loss: 0.5455 - accuracy: 0.7411\n",
            "Epoch 82/100\n",
            "215/215 [==============================] - 0s 2ms/step - loss: 0.5453 - accuracy: 0.7405\n",
            "Epoch 83/100\n",
            "215/215 [==============================] - 0s 2ms/step - loss: 0.5450 - accuracy: 0.7417\n",
            "Epoch 84/100\n",
            "215/215 [==============================] - 0s 2ms/step - loss: 0.5445 - accuracy: 0.7415\n",
            "Epoch 85/100\n",
            "198/215 [==========================>...] - ETA: 0s - loss: 0.5429 - accuracy: 0.7426\n",
            "Epoch 85: saving model to checkpoints/weights.85.hdf5\n",
            "215/215 [==============================] - 0s 2ms/step - loss: 0.5443 - accuracy: 0.7412\n",
            "Epoch 86/100\n",
            "215/215 [==============================] - 0s 2ms/step - loss: 0.5439 - accuracy: 0.7408\n",
            "Epoch 87/100\n",
            "215/215 [==============================] - 0s 2ms/step - loss: 0.5436 - accuracy: 0.7405\n",
            "Epoch 88/100\n",
            "215/215 [==============================] - 0s 2ms/step - loss: 0.5428 - accuracy: 0.7414\n",
            "Epoch 89/100\n",
            "215/215 [==============================] - 0s 2ms/step - loss: 0.5426 - accuracy: 0.7421\n",
            "Epoch 90/100\n",
            "195/215 [==========================>...] - ETA: 0s - loss: 0.5411 - accuracy: 0.7417\n",
            "Epoch 90: saving model to checkpoints/weights.90.hdf5\n",
            "215/215 [==============================] - 0s 2ms/step - loss: 0.5426 - accuracy: 0.7403\n",
            "Epoch 91/100\n",
            "215/215 [==============================] - 0s 2ms/step - loss: 0.5422 - accuracy: 0.7415\n",
            "Epoch 92/100\n",
            "215/215 [==============================] - 0s 2ms/step - loss: 0.5418 - accuracy: 0.7399\n",
            "Epoch 93/100\n",
            "215/215 [==============================] - 1s 2ms/step - loss: 0.5417 - accuracy: 0.7411\n",
            "Epoch 94/100\n",
            "215/215 [==============================] - 1s 3ms/step - loss: 0.5412 - accuracy: 0.7408\n",
            "Epoch 95/100\n",
            "212/215 [============================>.] - ETA: 0s - loss: 0.5409 - accuracy: 0.7412\n",
            "Epoch 95: saving model to checkpoints/weights.95.hdf5\n",
            "215/215 [==============================] - 1s 3ms/step - loss: 0.5411 - accuracy: 0.7412\n",
            "Epoch 96/100\n",
            "215/215 [==============================] - 1s 2ms/step - loss: 0.5407 - accuracy: 0.7417\n",
            "Epoch 97/100\n",
            "215/215 [==============================] - 1s 2ms/step - loss: 0.5406 - accuracy: 0.7412\n",
            "Epoch 98/100\n",
            "215/215 [==============================] - 1s 2ms/step - loss: 0.5401 - accuracy: 0.7418\n",
            "Epoch 99/100\n",
            "215/215 [==============================] - 0s 2ms/step - loss: 0.5398 - accuracy: 0.7419\n",
            "Epoch 100/100\n",
            "191/215 [=========================>....] - ETA: 0s - loss: 0.5389 - accuracy: 0.7420\n",
            "Epoch 100: saving model to checkpoints/weights.100.hdf5\n",
            "215/215 [==============================] - 0s 2ms/step - loss: 0.5397 - accuracy: 0.7417\n"
          ]
        }
      ],
      "source": [
        "# Train the model\n",
        "checkpoint_path = 'checkpoints/weights.{epoch:02d}.hdf5'\n",
        "callback = tf.keras.callbacks.ModelCheckpoint(filepath=checkpoint_path,\n",
        "                                              save_weights_only=True,\n",
        "                                              verbose=1, \n",
        "                                              period=5,\n",
        "                                              )\n",
        "fit_model = nn.fit(X_train_scaled, y_train, epochs=100, callbacks=[callback])"
      ]
    },
    {
      "cell_type": "code",
      "execution_count": 15,
      "metadata": {
        "id": "UL1-Miw40TR3",
        "outputId": "d15c09ca-d4fa-4e16-9e4d-4c26501e8d40",
        "colab": {
          "base_uri": "https://localhost:8080/"
        }
      },
      "outputs": [
        {
          "output_type": "stream",
          "name": "stdout",
          "text": [
            "858/858 - 1s - loss: 0.5649 - accuracy: 0.7246 - 1s/epoch - 2ms/step\n",
            "Loss: 0.5649020671844482, Accuracy: 0.7245991230010986\n"
          ]
        }
      ],
      "source": [
        "# Evaluate the model using the test data\n",
        "model_loss, model_accuracy = nn.evaluate(X_test_scaled,y_test,verbose=2)\n",
        "print(f\"Loss: {model_loss}, Accuracy: {model_accuracy}\")"
      ]
    },
    {
      "cell_type": "code",
      "execution_count": 16,
      "metadata": {
        "id": "BWkguilu0TR3"
      },
      "outputs": [],
      "source": [
        "# Export our model to HDF5 file\n",
        "nn.save('AlphabetSoupCharity.h5')"
      ]
    }
  ],
  "metadata": {
    "kernelspec": {
      "display_name": "Python 3",
      "language": "python",
      "name": "python3"
    },
    "language_info": {
      "codemirror_mode": {
        "name": "ipython",
        "version": 3
      },
      "file_extension": ".py",
      "mimetype": "text/x-python",
      "name": "python",
      "nbconvert_exporter": "python",
      "pygments_lexer": "ipython3",
      "version": "3.-1.-1"
    },
    "vscode": {
      "interpreter": {
        "hash": "31f2aee4e71d21fbe5cf8b01ff0e069b9275f58929596ceb00d14d90e3e16cd6"
      }
    },
    "colab": {
      "provenance": []
    }
  },
  "nbformat": 4,
  "nbformat_minor": 0
}